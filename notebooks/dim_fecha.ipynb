{
 "cells": [
  {
   "cell_type": "markdown",
   "metadata": {},
   "source": [
    "## Importar librerías"
   ]
  },
  {
   "cell_type": "code",
   "execution_count": 1,
   "metadata": {},
   "outputs": [],
   "source": [
    "from datetime import datetime # Tiempo actual\n",
    "import pandas as pd # Manipulacion de datos\n",
    "import sqlalchemy as sa # Conexon a la BD\n",
    "import utils.conn_tools as ct  # Util para la configuracion de la BD\n",
    "import holidays # Para obtener los días festivos"
   ]
  },
  {
   "cell_type": "markdown",
   "metadata": {},
   "source": [
    "## Conexión con base de datos"
   ]
  },
  {
   "cell_type": "code",
   "execution_count": null,
   "metadata": {},
   "outputs": [],
   "source": [
    "config = ct.readConfig(\"../config/config-postgres.yaml\")\n",
    "\n",
    "config_src = config[\"source\"]\n",
    "config_etl = config[\"warehouse\"]\n",
    "\n",
    "print(config_src)\n",
    "print(config_etl)\n",
    "\n",
    "engine_src = sa.create_engine(ct.generateConnUrl(config_src))\n",
    "engine_etl = sa.create_engine(ct.generateConnUrl(config_etl))"
   ]
  },
  {
   "cell_type": "markdown",
   "metadata": {},
   "source": [
    "## Extract"
   ]
  },
  {
   "cell_type": "markdown",
   "metadata": {},
   "source": [
    "## Transform: Creación de la dimensión"
   ]
  },
  {
   "cell_type": "markdown",
   "metadata": {},
   "source": [
    "### Fecha completa sin hora"
   ]
  },
  {
   "cell_type": "code",
   "execution_count": null,
   "metadata": {},
   "outputs": [],
   "source": [
    "# 2009-01-04 is YYYY-MM-DD\n",
    "dim_fecha = pd.DataFrame({\"date\" : pd.date_range(start=\"2005-01-01\", end=\"2009-01-04\", freq=\"D\")})\n",
    "dim_fecha"
   ]
  },
  {
   "cell_type": "markdown",
   "metadata": {},
   "source": [
    "### Extraer detalles de fecha (año, mes, dia, dia de la semana...)"
   ]
  },
  {
   "cell_type": "code",
   "execution_count": null,
   "metadata": {},
   "outputs": [],
   "source": [
    "dim_fecha[\"date_mmdd\"] = dim_fecha[\"date\"].dt.strftime(\"%m/%d\")\n",
    "dim_fecha[\"date_yyyymmdd\"] = dim_fecha[\"date\"].dt.strftime(\"%Y/%m/%d\")\n",
    "\n",
    "dim_fecha[\"day\"] = dim_fecha[\"date\"].dt.day\n",
    "dim_fecha['day_of_week'] = dim_fecha['date'].dt.dayofweek\n",
    "\n",
    "dim_fecha['month'] = dim_fecha['date'].dt.month\n",
    "dim_fecha[\"month_name\"] = dim_fecha['date'].dt.month_name().str.lower()\n",
    "\n",
    "dim_fecha['year'] = dim_fecha['date'].dt.year \n",
    "\n",
    "dim_fecha[\"week_of_month\"] = (dim_fecha[\"date\"].dt.day - 1) // 7 + 1\n",
    "\n",
    "dim_fecha[\"quarter\"] = dim_fecha[\"date\"].dt.quarter\n",
    "\n",
    "\n",
    "# Festivos con libreria Holidays\n",
    "co_holidays = holidays.CO(language=\"es\")  # Objeto con festivos en Colombia\n",
    "dim_fecha[\"is_holiday\"] = dim_fecha[\"date\"].apply(\n",
    "    lambda x: x in co_holidays\n",
    ")  \n",
    "dim_fecha[\"holiday_name\"] = dim_fecha[\"date\"].apply(lambda x: co_holidays.get(x, None))\n",
    "\n",
    "dim_fecha['is_leap_year'] = dim_fecha['date'].dt.is_leap_year\n",
    "\n",
    "dim_fecha"
   ]
  },
  {
   "cell_type": "markdown",
   "metadata": {},
   "source": [
    "## Load"
   ]
  },
  {
   "cell_type": "code",
   "execution_count": null,
   "metadata": {},
   "outputs": [],
   "source": [
    "dim_fecha.to_sql(name=\"dim_fecha\", con=engine_etl, index_label=\"key_fecha\")"
   ]
  }
 ],
 "metadata": {
  "kernelspec": {
   "display_name": "venv",
   "language": "python",
   "name": "python3"
  },
  "language_info": {
   "codemirror_mode": {
    "name": "ipython",
    "version": 3
   },
   "file_extension": ".py",
   "mimetype": "text/x-python",
   "name": "python",
   "nbconvert_exporter": "python",
   "pygments_lexer": "ipython3",
   "version": "3.10.12"
  }
 },
 "nbformat": 4,
 "nbformat_minor": 2
}
