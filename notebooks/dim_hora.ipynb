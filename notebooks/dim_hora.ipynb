{
 "cells": [
  {
   "attachments": {
    "image-2.png": {
     "image/png": "[encoded data removed]"
    }
   },
   "cell_type": "markdown",
   "metadata": {},
   "source": [
    "![image-2.png](attachment:image-2.png)"
   ]
  },
  {
   "cell_type": "markdown",
   "metadata": {},
   "source": [
    "# Importar librerías"
   ]
  },
  {
   "cell_type": "code",
   "execution_count": null,
   "metadata": {},
   "outputs": [],
   "source": [
    "from datetime import datetime # Tiempo actual\n",
    "import pandas as pd # Manipulacion de datos\n",
    "import sqlalchemy as sa # Conexon a la BD\n",
    "import utils.conn_tools as ct  # Util para la configuracion de la BD\n",
    "import numpy as np # Para operaciones matematicas"
   ]
  },
  {
   "cell_type": "markdown",
   "metadata": {},
   "source": [
    "## Conexión con base de datos"
   ]
  },
  {
   "cell_type": "code",
   "execution_count": null,
   "metadata": {},
   "outputs": [],
   "source": [
    "config = ct.readConfig(\"../config/config-postgres.yaml\")\n",
    "\n",
    "config_src = config[\"source\"]\n",
    "config_etl = config[\"warehouse\"]\n",
    "\n",
    "print(config_src)\n",
    "print(config_etl)\n",
    "\n",
    "engine_src = sa.create_engine(ct.generateConnUrl(config_src))\n",
    "engine_etl = sa.create_engine(ct.generateConnUrl(config_etl))"
   ]
  },
  {
   "cell_type": "markdown",
   "metadata": {},
   "source": [
    "## Extract"
   ]
  },
  {
   "cell_type": "markdown",
   "metadata": {},
   "source": [
    "## Transform: Creación de la dimensión"
   ]
  },
  {
   "cell_type": "code",
   "execution_count": null,
   "metadata": {},
   "outputs": [],
   "source": [
    "# Creacion de rango de horas con saltos de un minuto\n",
    "hora_range = pd.date_range(start=\"00:00:00\", end=\"23:59:00\", freq=\"1T\")\n",
    "\n",
    "dim_hora = pd.DataFrame(\n",
    "    {\n",
    "        \"hour_HHMMSS\": hora_range.strftime(\"%H:%M:%S\"),\n",
    "        \"hour_24\": hora_range.hour,\n",
    "        \"hour_12\": np.where(\n",
    "            hora_range.hour % 12 == 0, 12, hora_range.hour % 12\n",
    "        ),\n",
    "        \"minute\": hora_range.minute,\n",
    "        \"am_pm\": [\n",
    "            \"AM\" if h.hour < 12 else \"PM\" for h in hora_range\n",
    "        ],\n",
    "        \"day_section\": pd.cut(\n",
    "            hora_range.hour,\n",
    "            bins=[-1, 5, 11, 17, 24],\n",
    "            labels=[\"Madrugada\", \"Mañana\", \"Tarde\", \"Noche\"],\n",
    "            right=True,\n",
    "        ),\n",
    "    }\n",
    ")\n",
    "\n",
    "\n",
    "print(dim_hora.iloc[358:362])\n",
    "print(dim_hora.iloc[718:722])\n",
    "print(dim_hora.iloc[1078:1082])\n",
    "\n",
    "print(f\"x{dim_hora.shape[0]} registros\")"
   ]
  },
  {
   "cell_type": "code",
   "execution_count": null,
   "metadata": {},
   "outputs": [],
   "source": [
    "# Create table\n",
    "metadata = sa.MetaData()\n",
    "\n",
    "metadata.reflect(bind=engine_etl)  # Reflect helps to get existing tables\n",
    "\n",
    "dim_hora_table = sa.Table(\n",
    "    \"dim_hora\",\n",
    "    metadata,\n",
    "    # Primary key\n",
    "    sa.Column(\"key_hora\", sa.Integer, primary_key=True, autoincrement=True),\n",
    "    # Dimension properties\n",
    "    sa.Column(\"hour_HHMMSS\", sa.Time, nullable=False),\n",
    "    sa.Column(\"hour_24\", sa.Integer, nullable=False),\n",
    "    sa.Column(\"hour_12\", sa.Integer, nullable=False),\n",
    "    sa.Column(\"minute\", sa.Integer, nullable=False),\n",
    "    sa.Column(\"am_pm\", sa.String(length=2), nullable=False),\n",
    "    sa.Column(\"day_section\", sa.String(length=10), nullable=False),\n",
    ")\n",
    "\n",
    "metadata.create_all(engine_etl)"
   ]
  },
  {
   "cell_type": "markdown",
   "metadata": {},
   "source": [
    "## Load"
   ]
  },
  {
   "cell_type": "code",
   "execution_count": null,
   "metadata": {},
   "outputs": [],
   "source": [
    "dim_hora.to_sql(\n",
    "    name=\"dim_hora\",\n",
    "    con=engine_etl,\n",
    "    if_exists=\"append\",  # Create table if not exists, else append\n",
    "    index=False,  # Do not create index because we already have one PK\n",
    ")"
   ]
  }
 ],
 "metadata": {
  "kernelspec": {
   "display_name": "venv",
   "language": "python",
   "name": "python3"
  },
  "language_info": {
   "codemirror_mode": {
    "name": "ipython",
    "version": 3
   },
   "file_extension": ".py",
   "mimetype": "text/x-python",
   "name": "python",
   "nbconvert_exporter": "python",
   "pygments_lexer": "ipython3",
   "version": "3.10.12"
  }
 },
 "nbformat": 4,
 "nbformat_minor": 2
}
