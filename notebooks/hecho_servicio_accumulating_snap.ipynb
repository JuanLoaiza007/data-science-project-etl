{
 "cells": [
  {
   "cell_type": "markdown",
   "metadata": {},
   "source": [
    "![image.png(attachment:image.png)"
   ]
  },
  {
   "cell_type": "markdown",
   "metadata": {},
   "source": [
    "## Importar librerías"
   ]
  },
  {
   "cell_type": "code",
   "execution_count": null,
   "metadata": {},
   "outputs": [],
   "source": [
    "import pandas as pd\n",
    "import sqlalchemy as sa\n",
    "import utils.conn_tools as ct\n",
    "from datetime import datetime, timedelta\n",
    "import numpy as np"
   ]
  },
  {
   "cell_type": "markdown",
   "metadata": {},
   "source": [
    "## Conexión con base de datos"
   ]
  },
  {
   "cell_type": "code",
   "execution_count": null,
   "metadata": {},
   "outputs": [],
   "source": [
    "config = ct.readConfig(\"../config/config-postgres.yaml\")\n",
    "\n",
    "config_src = config[\"source\"]\n",
    "config_etl = config[\"warehouse\"]\n",
    "\n",
    "engine_src = sa.create_engine(ct.generateConnUrl(config_src))\n",
    "engine_etl = sa.create_engine(ct.generateConnUrl(config_etl))"
   ]
  },
  {
   "cell_type": "markdown",
   "metadata": {},
   "source": [
    "## Extract"
   ]
  },
  {
   "cell_type": "code",
   "execution_count": null,
   "metadata": {},
   "outputs": [],
   "source": [
    "# Leer los datos de las tablas\n",
    "\n",
    "# De la fuente\n",
    "definicion_estados_df = pd.read_sql_table(\"mensajeria_estado\", con=engine_src)\n",
    "estados_servicio = pd.read_sql_table(\"mensajeria_estadosservicio\", con=engine_src)\n",
    "\n",
    "# Del Warehouse\n",
    "dim_fecha = pd.read_sql_table(\"dim_fecha\", con=engine_etl)\n",
    "dim_hora = pd.read_sql_table(\"dim_hora\", con=engine_etl)"
   ]
  },
  {
   "cell_type": "code",
   "execution_count": null,
   "metadata": {},
   "outputs": [],
   "source": [
    "# Comprobar los campos\n",
    "definicion_estados_df.head(6)"
   ]
  },
  {
   "cell_type": "code",
   "execution_count": null,
   "metadata": {},
   "outputs": [],
   "source": [
    "# Comprobar los campos\n",
    "estados_servicio.head(3)"
   ]
  },
  {
   "cell_type": "markdown",
   "metadata": {},
   "source": [
    "## Transform: Ajustes de la dimensión"
   ]
  },
  {
   "cell_type": "markdown",
   "metadata": {},
   "source": [
    "### Filtrar solo los datos necesarios de la fuente"
   ]
  },
  {
   "cell_type": "code",
   "execution_count": null,
   "metadata": {},
   "outputs": [],
   "source": [
    "# Copia los datos necesarios en el DataFrame\n",
    "servicio_df = estados_servicio[\n",
    "    [\n",
    "        \"servicio_id\",\n",
    "        \"estado_id\" ,\n",
    "        \"fecha\",\n",
    "        \"hora\",\n",
    "    ]\n",
    "].copy()\n",
    "\n",
    "servicio_df[\"fecha\"] = pd.to_datetime(servicio_df[\"fecha\"]).dt.date\n",
    "servicio_df[\"hora\"] = servicio_df[\"hora\"].apply(\n",
    "    lambda x: x.replace(second=0).strftime(\"%H:%M:%S\") if pd.notnull(x) else None\n",
    ")\n",
    "\n",
    "servicio_df.head(3)"
   ]
  },
  {
   "cell_type": "markdown",
   "metadata": {},
   "source": [
    "### Realizar JOIN con estados, horas y fechas"
   ]
  },
  {
   "cell_type": "code",
   "execution_count": null,
   "metadata": {},
   "outputs": [],
   "source": [
    "definicion_estados_df.head(6)"
   ]
  },
  {
   "cell_type": "code",
   "execution_count": null,
   "metadata": {},
   "outputs": [],
   "source": [
    "# Combinar las tablas para obtener los textos de los estados\n",
    "merged_df = servicio_df.merge(\n",
    "    definicion_estados_df,\n",
    "    how=\"left\",\n",
    "    left_on=\"estado_id\",\n",
    "    right_on=\"id\",\n",
    "    suffixes=(\"\", \"_estado\"),\n",
    ")\n",
    "\n",
    "merged_df = merged_df[[\"servicio_id\", \"fecha\", \"hora\", \"nombre\"]]\n",
    "merged_df.rename(columns={\"nombre\": \"nombre_estado\"}, inplace=True)\n",
    "\n",
    "merged_df.head(3)"
   ]
  },
  {
   "cell_type": "code",
   "execution_count": null,
   "metadata": {},
   "outputs": [],
   "source": [
    "# Convirtiendo a tipo fechas para poder hacer merge\n",
    "merged_df[\"fecha\"] = pd.to_datetime(\n",
    "    merged_df[\"fecha\"], format=\"%Y-%m-%d\", errors=\"coerce\"\n",
    ")\n",
    "dim_fecha[\"date\"] = pd.to_datetime(\n",
    "    dim_fecha[\"date\"], format=\"%Y-%m-%d\", errors=\"coerce\"\n",
    ")\n",
    "\n",
    "# Combina con dim_fecha\n",
    "merged_df = merged_df.merge(\n",
    "    dim_fecha, how=\"left\", left_on=\"fecha\", right_on=\"date\", suffixes=(\"\", \"_fecha\")\n",
    ")\n",
    "\n",
    "# Nos quedamos solo con los campos de fecha relevantes\n",
    "merged_df = merged_df[[\"servicio_id\", \"key_fecha\", \"date\", \"hora\", \"nombre_estado\"]]\n",
    "\n",
    "merged_df.rename(columns={\"date\": \"dim_fecha_date\"}, inplace=True)\n",
    "\n",
    "merged_df.head(6)"
   ]
  },
  {
   "cell_type": "code",
   "execution_count": null,
   "metadata": {},
   "outputs": [],
   "source": [
    "# Combina con dim_hora\n",
    "merged_df = merged_df.merge(\n",
    "    dim_hora,\n",
    "    how=\"left\",\n",
    "    left_on=\"hora\",\n",
    "    right_on=\"hour_HHMMSS\",\n",
    "    suffixes=(\"\", \"_hora\"),\n",
    ")\n",
    "\n",
    "# Nos quedamos solo con los campos de fecha relevantes\n",
    "merged_df = merged_df[\n",
    "    [\n",
    "        \"servicio_id\",\n",
    "        \"key_fecha\",\n",
    "        \"dim_fecha_date\",\n",
    "        \"key_hora\",\n",
    "        \"hour_HHMMSS\",\n",
    "        \"nombre_estado\",\n",
    "    ]\n",
    "]\n",
    "\n",
    "merged_df.rename(columns={\"hour_HHMMSS\": \"dim_hora_hour_HHMMSS\"}, inplace=True)\n",
    "\n",
    "merged_df.head(10)"
   ]
  },
  {
   "cell_type": "markdown",
   "metadata": {},
   "source": [
    "### Agrupar servicios por id, obtener las fechas y horas de sus estados y los tiempos de diferencia"
   ]
  },
  {
   "cell_type": "code",
   "execution_count": null,
   "metadata": {},
   "outputs": [],
   "source": [
    "# Ejemplo de un servicio ya completado\n",
    "# Filtrar los registros donde servicio_id es igual a 842\n",
    "merged_df[merged_df[\"servicio_id\"] == 842] # [\"dim_fecha_date\"].values[0]"
   ]
  },
  {
   "cell_type": "code",
   "execution_count": null,
   "metadata": {},
   "outputs": [],
   "source": [
    "class Estado:\n",
    "    def __init__(self, nombre, fecha, hora):\n",
    "        self.nombre = nombre\n",
    "        self.fecha = fecha\n",
    "        self.hora = hora\n",
    "\n",
    "estados = [\n",
    "    Estado(\"Iniciado\", \"fecha_iniciado\", \"hora_iniciado\"),\n",
    "    Estado(\"Con mensajero Asignado\", \"fecha_asignado\", \"hora_asignado\"),\n",
    "    Estado(\"Recogido por mensajero\", \"fecha_recogido\", \"hora_recogido\"),\n",
    "    Estado(\"Entregado en destino\", \"fecha_entregado\", \"hora_entregado\"),\n",
    "    Estado(\"Terminado completo\", \"fecha_cerrado\", \"hora_cerrado\"),\n",
    "]\n",
    "\n",
    "\n",
    "def calcular_diferencia_en_minutos(fecha_inicio, hora_inicio, fecha_fin, hora_fin):\n",
    "    if None in {fecha_inicio, hora_inicio, fecha_fin, hora_fin}:\n",
    "        return None\n",
    "    \n",
    "    # Calcular la diferencia total en minutos entre las fechas\n",
    "    diferencia_total_minutos = (\n",
    "        pd.to_datetime(fecha_fin) - pd.to_datetime(fecha_inicio)\n",
    "    ).total_seconds() / 60\n",
    "\n",
    "    # Convertir horas a minutos y sumarlas a la diferencia total\n",
    "    hora_inicio_total = sum(\n",
    "        int(t) * factor for t, factor in zip(hora_inicio.split(\":\"), [60, 1])\n",
    "    )\n",
    "    hora_fin_total = sum(\n",
    "        int(t) * factor for t, factor in zip(hora_fin.split(\":\"), [60, 1])\n",
    "    )\n",
    "\n",
    "    return diferencia_total_minutos + (hora_fin_total - hora_inicio_total)\n",
    "\n",
    "\n",
    "data_hecho = [] # Lista para almacenar los datos del hecho\n",
    "servicios_unicos = merged_df[\"servicio_id\"].unique() # No repetir servicios\n",
    "\n",
    "total_servicios = len(servicios_unicos)\n",
    "print(f\"Servicios únicos encontrados: {total_servicios}\")\n",
    "\n",
    "for index, servicio_id in enumerate(servicios_unicos, start=1):\n",
    "\n",
    "    print(f\"Procesando servicio_id: {servicio_id} ({index} de {total_servicios})\")\n",
    "\n",
    "    servicio_data = {}\n",
    "    registros_servicio = merged_df[merged_df[\"servicio_id\"] == servicio_id]\n",
    "\n",
    "    servicio_data[\"id_servicio\"] = servicio_id\n",
    "\n",
    "    # Llenar servicio_data con valores de fecha y hora si existen\n",
    "    for estado in estados:\n",
    "\n",
    "        # Obtener los valores de fecha del estado\n",
    "        id_fecha = registros_servicio[\n",
    "            registros_servicio[\"nombre_estado\"] == estado.nombre\n",
    "        ][\"key_fecha\"].values\n",
    "        fecha = registros_servicio[\n",
    "            registros_servicio[\"nombre_estado\"] == estado.nombre\n",
    "        ][\"dim_fecha_date\"].values\n",
    "\n",
    "        # Obtener los valores de hora del estado\n",
    "        id_hora = registros_servicio[registros_servicio[\"nombre_estado\"] == estado.nombre][\n",
    "            \"key_hora\"\n",
    "        ].values\n",
    "        hora = registros_servicio[\n",
    "                registros_servicio[\"nombre_estado\"] == estado.nombre\n",
    "            ][\"dim_hora_hour_HHMMSS\"].values\n",
    "\n",
    "        # Colocar la fecha si existe, si no poner None\n",
    "        servicio_data[f\"id_{estado.fecha}\"] = id_fecha[0] if len(id_fecha) > 0 else None\n",
    "        servicio_data[f\"{estado.fecha}\"] = fecha[0] if len(fecha) > 0 else None\n",
    "\n",
    "        # Colocar la hora si existe, si no poner None\n",
    "        servicio_data[f\"id_{estado.hora}\"] = id_hora[0] if len(id_hora) > 0 else None\n",
    "        servicio_data[f\"{estado.hora}\"] = hora[0] if len(hora) > 0 else None\n",
    "\n",
    "    # Verificación para ajustar fecha_cerrado y hora_cerrado si existe fecha_entregado y hora_entregado\n",
    "    if servicio_data[\"fecha_cerrado\"] is None and servicio_data[\"fecha_entregado\"] is not None:\n",
    "        servicio_data[\"fecha_cerrado\"] = servicio_data[\"fecha_entregado\"]\n",
    "    if servicio_data[\"hora_cerrado\"] is None and servicio_data[\"hora_entregado\"] is not None:\n",
    "        hora_entregado_dt = pd.to_datetime(\n",
    "            servicio_data[\"hora_entregado\"], format=\"%H:%M:%S\"\n",
    "        )\n",
    "        servicio_data[\"hora_cerrado\"] = (\n",
    "            hora_entregado_dt + timedelta(minutes=1)\n",
    "        ).strftime(\"%H:%M:%S\")\n",
    "\n",
    "    # Diferencias entre estados en minutos\n",
    "    servicio_data[\"tiempo_iniciado_asignado_min\"] = calcular_diferencia_en_minutos(\n",
    "        servicio_data[\"fecha_iniciado\"], servicio_data[\"hora_iniciado\"],\n",
    "        servicio_data[\"fecha_asignado\"], servicio_data[\"hora_asignado\"],\n",
    "    )\n",
    "    servicio_data[\"tiempo_asignado_recogido_min\"] = calcular_diferencia_en_minutos(\n",
    "        servicio_data[\"fecha_asignado\"], servicio_data[\"hora_asignado\"],\n",
    "        servicio_data[\"fecha_recogido\"], servicio_data[\"hora_recogido\"],\n",
    "    )\n",
    "    servicio_data[\"tiempo_recogido_entregado_min\"] = calcular_diferencia_en_minutos(\n",
    "        servicio_data[\"fecha_recogido\"], servicio_data[\"hora_recogido\"],\n",
    "        servicio_data[\"fecha_entregado\"], servicio_data[\"hora_entregado\"],\n",
    "    )\n",
    "    servicio_data[\"tiempo_entregado_cerrado_min\"] = calcular_diferencia_en_minutos(\n",
    "        servicio_data[\"fecha_entregado\"], servicio_data[\"hora_entregado\"],\n",
    "        servicio_data[\"fecha_cerrado\"],servicio_data[\"hora_cerrado\"],\n",
    "    )\n",
    "\n",
    "    # Diferencias entre estados en horas\n",
    "    servicio_data[\"tiempo_iniciado_asignado_horas\"] = (\n",
    "        servicio_data[\"tiempo_iniciado_asignado_min\"] / 60.0\n",
    "    ) if servicio_data[\"tiempo_iniciado_asignado_min\"] is not None else None\n",
    "    servicio_data[\"tiempo_asignado_recogido_horas\"] = (\n",
    "        servicio_data[\"tiempo_asignado_recogido_min\"] / 60.0\n",
    "    ) if servicio_data[\"tiempo_asignado_recogido_min\"] is not None else None\n",
    "    servicio_data[\"tiempo_recogido_entregado_horas\"] = (\n",
    "        servicio_data[\"tiempo_recogido_entregado_min\"] / 60.0\n",
    "    ) if servicio_data[\"tiempo_recogido_entregado_min\"] is not None else None\n",
    "    servicio_data[\"tiempo_entregado_cerrado_horas\"] = (\n",
    "        servicio_data[\"tiempo_entregado_cerrado_min\"] / 60.0\n",
    "    ) if servicio_data[\"tiempo_entregado_cerrado_min\"] is not None else None\n",
    "\n",
    "    # Eliminar columnas de fechas y horas explicitas\n",
    "    servicio_data.pop(\"fecha_iniciado\", None)\n",
    "    servicio_data.pop(\"hora_iniciado\", None)\n",
    "    servicio_data.pop(\"fecha_asignado\", None)\n",
    "    servicio_data.pop(\"hora_asignado\", None)\n",
    "    servicio_data.pop(\"fecha_recogido\", None)\n",
    "    servicio_data.pop(\"hora_recogido\", None)\n",
    "    servicio_data.pop(\"fecha_entregado\", None)   \n",
    "    servicio_data.pop(\"hora_entregado\", None)\n",
    "    servicio_data.pop(\"fecha_cerrado\", None)   \n",
    "    servicio_data.pop(\"hora_cerrado\", None)\n",
    "\n",
    "    data_hecho.append(servicio_data)\n",
    "\n",
    "hecho_servicio_accumulating_snapshot = pd.DataFrame(data_hecho)\n",
    "hecho_servicio_accumulating_snapshot.head(5)"
   ]
  },
  {
   "cell_type": "markdown",
   "metadata": {},
   "source": [
    "### Rename para coincidir nombres en inglés"
   ]
  },
  {
   "cell_type": "code",
   "execution_count": null,
   "metadata": {},
   "outputs": [],
   "source": [
    "hecho_servicio_accumulating_snapshot.rename(\n",
    "    columns={\n",
    "        \"id_servicio\": \"service_id\",\n",
    "        \"id_fecha_iniciado\": \"date_started\",\n",
    "        \"id_hora_iniciado\": \"time_started\",\n",
    "        \"id_fecha_asignado\": \"date_assigned\",\n",
    "        \"id_hora_asignado\": \"time_assigned\",\n",
    "        \"id_fecha_recogido\": \"date_collected\",\n",
    "        \"id_hora_recogido\": \"time_collected\",\n",
    "        \"id_fecha_entregado\": \"date_delivered\",\n",
    "        \"id_hora_entregado\": \"time_delivered\",\n",
    "        \"id_fecha_cerrado\": \"date_closed\",\n",
    "        \"id_hora_cerrado\": \"time_closed\",\n",
    "        \"tiempo_iniciado_asignado_min\": \"time_started_assigned_min\",\n",
    "        \"tiempo_asignado_recogido_min\": \"time_assigned_collected_min\",\n",
    "        \"tiempo_recogido_entregado_min\": \"time_collected_delivered_min\",\n",
    "        \"tiempo_entregado_cerrado_min\": \"time_delivered_closed_min\",\n",
    "        \"tiempo_iniciado_asignado_horas\": \"time_started_assigned_hours\",\n",
    "        \"tiempo_asignado_recogido_horas\": \"time_assigned_collected_hours\",\n",
    "        \"tiempo_recogido_entregado_horas\": \"time_collected_delivered_hours\",\n",
    "        \"tiempo_entregado_cerrado_horas\": \"time_delivered_closed_hours\",\n",
    "    },\n",
    "    inplace=True,\n",
    ")"
   ]
  },
  {
   "cell_type": "markdown",
   "metadata": {},
   "source": [
    "### Prueba de salida"
   ]
  },
  {
   "cell_type": "code",
   "execution_count": null,
   "metadata": {},
   "outputs": [],
   "source": [
    "# Ejemplo de un servicio ya completado\n",
    "merged_df[merged_df[\"servicio_id\"] == 842].head()\n"
   ]
  },
  {
   "cell_type": "code",
   "execution_count": null,
   "metadata": {},
   "outputs": [],
   "source": [
    "# Comparacion con la tabla obtenida\n",
    "hecho_servicio_accumulating_snapshot[hecho_servicio_accumulating_snapshot[\"service_id\"] == 842].head()"
   ]
  },
  {
   "cell_type": "markdown",
   "metadata": {},
   "source": [
    "## Load: Ejecución de ETL"
   ]
  },
  {
   "cell_type": "code",
   "execution_count": null,
   "metadata": {},
   "outputs": [],
   "source": [
    "hecho_servicio_accumulating_snapshot.to_sql(\n",
    "    name=\"hecho_servicio_accumulating_snapshot\",\n",
    "    con=engine_etl,\n",
    "    if_exists=\"append\",\n",
    "    index=False,\n",
    ")"
   ]
  }
 ],
 "metadata": {
  "kernelspec": {
   "display_name": "venv",
   "language": "python",
   "name": "python3"
  },
  "language_info": {
   "codemirror_mode": {
    "name": "ipython",
    "version": 3
   },
   "file_extension": ".py",
   "mimetype": "text/x-python",
   "name": "python",
   "nbconvert_exporter": "python",
   "pygments_lexer": "ipython3",
   "version": "3.10.12"
  }
 },
 "nbformat": 4,
 "nbformat_minor": 2
}
